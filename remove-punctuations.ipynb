{
 "cells": [
  {
   "cell_type": "markdown",
   "source": [
    "# Python으로 특수기호 제거하는 예제\n",
    "\n",
    "\n",
    "가장 빠른 것은 translate() 메서드를 사용하는 것이고\n",
    "그 다음은 string.replace() 메서드를 사용하는 것이고\n",
    "가장 느린 것은 정규표현식을 사용하는 것이다.\n"
   ],
   "metadata": {
    "collapsed": false,
    "pycharm": {
     "name": "#%% md\n"
    }
   }
  },
  {
   "cell_type": "code",
   "execution_count": 16,
   "outputs": [
    {
     "name": "stdout",
     "output_type": "stream",
     "text": [
      "hi what is the weather like \n",
      "!\"#$%&'()*+,-./:;<=>?@[\\]^_`{|}~\n"
     ]
    }
   ],
   "source": [
    "# strings 패키지의 translate() 함수를 사용하여 특수기호를 제거하는 예제\n",
    "import string\n",
    "input_string = '!hi. wh?at is the weat[h]er lik?e. !@##$%%^^&*)_+{}|?\"'\n",
    "output_string = input_string.translate(str.maketrans('', '', string.punctuation))\n",
    "print(output_string)\n",
    "# Returns: hi what is the weather like\n",
    "# 제거되는 특수기호는 아래와 같다.\n",
    "print(string.punctuation)\n",
    "# Returns: !\"#$%&'()*+,-./:;<=>?@[\\]^_`{|}~"
   ],
   "metadata": {
    "collapsed": false,
    "pycharm": {
     "name": "#%%\n"
    }
   }
  },
  {
   "cell_type": "code",
   "execution_count": 18,
   "outputs": [
    {
     "name": "stdout",
     "output_type": "stream",
     "text": [
      "hi what is the weather like _\n",
      "hi what is the weather like _\n"
     ]
    }
   ],
   "source": [
    "# 정규표현식을 사용하여 특수기호를 제거하는 예제\n",
    "import re\n",
    "input_string = '!hi. wh?at is the weat[h]er lik?e. !@##$%%^^&*)_+{}|?\"'\n",
    "output_string = re.sub(r'[^\\w\\s]', '', input_string)\n",
    "print(output_string)\n",
    "# Returns: hi what is the weather like\n",
    "\n",
    "# 좀더 빨리 하려면 정규표현식을 컴파일하는 것이 좋다.\n",
    "pattern_punctuation = re.compile(r'[^\\w\\s]')\n",
    "output_string = pattern_punctuation.sub('', input_string)\n",
    "print(output_string)\n"
   ],
   "metadata": {
    "collapsed": false,
    "pycharm": {
     "name": "#%%\n"
    }
   }
  },
  {
   "cell_type": "code",
   "execution_count": 10,
   "outputs": [
    {
     "name": "stdout",
     "output_type": "stream",
     "text": [
      "hi what is the weather like \n"
     ]
    }
   ],
   "source": [
    "# string.replace() 함수를 사용하여 특수기호를 제거하는 예제\n",
    "import string\n",
    "input_string = '!hi. wh?at is the weat[h]er lik?e. !@##$%%^^&*)_+{}|?\"'\n",
    "for character in string.punctuation:\n",
    "    input_string = input_string.replace(character, '')\n",
    "print(input_string)\n",
    "# Returns: hi what is the weather like\n"
   ],
   "metadata": {
    "collapsed": false,
    "pycharm": {
     "name": "#%%\n"
    }
   }
  }
 ],
 "metadata": {
  "kernelspec": {
   "display_name": "Python 3",
   "language": "python",
   "name": "python3"
  },
  "language_info": {
   "codemirror_mode": {
    "name": "ipython",
    "version": 2
   },
   "file_extension": ".py",
   "mimetype": "text/x-python",
   "name": "python",
   "nbconvert_exporter": "python",
   "pygments_lexer": "ipython2",
   "version": "2.7.6"
  }
 },
 "nbformat": 4,
 "nbformat_minor": 0
}